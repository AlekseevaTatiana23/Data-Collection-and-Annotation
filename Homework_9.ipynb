{
  "nbformat": 4,
  "nbformat_minor": 0,
  "metadata": {
    "colab": {
      "provenance": [],
      "gpuType": "T4"
    },
    "kernelspec": {
      "name": "python3",
      "display_name": "Python 3"
    },
    "language_info": {
      "name": "python"
    },
    "accelerator": "GPU"
  },
  "cells": [
    {
      "cell_type": "markdown",
      "source": [
        "# **Урок 9. Инструменты разметки наборов данных**\n",
        "Задание 1.\n",
        "Выберите датасет, который имеет отношение к вашей области интересов или исследований. Датасет должен содержать неструктурированные данные, требующие разметки для решения конкретной задачи, например, анализа настроений или распознавания именованных сущностей.\n",
        "\n",
        "Задание 2.\n",
        "Выполните разметку на основе правил (rule-based labeling) на подмножестве выбранного датасета. Разработайте и реализуйте набор правил или условий, которые позволят автоматически присваивать метки данным на основе определенных шаблонов или критериев.\n",
        "\n",
        "Задача 3.\n",
        "Выполните разметку вручную отдельного подмножества выбранного датасета с помощью выбранного вами инструмента разметки.\n",
        "\n",
        "Задача 4.\n",
        "Объедините данные, размеченные вручную, с данными, размеченными на основе правил. Объедините два подмножества размеченных данных в один набор данных, сохранив при этом соответствующую структуру и целостность.\n",
        "\n",
        "Задача 5.\n",
        "Обучите модель машинного обучения, используя объединенный набор размеченных данных. Разделите датасет на обучающий и тестовый наборы и используйте обучающий набор для обучения модели.\n",
        "\n",
        "Задача 6.\n",
        "Оценить эффективность обученной модели на тестовом датасете. Используйте подходящие метрики оценки. Интерпретируйте результаты и проанализируйте эффективность модели в решении задачи разметки."
      ],
      "metadata": {
        "id": "OwSwE081DEP9"
      }
    },
    {
      "cell_type": "markdown",
      "source": [
        "## 1. Cкачивание датасета\n",
        "Один из популярных и доступных наборов данных на Kaggle — это \"Medical Transcriptions\".\n",
        "Этот набор данных содержит образцы медицинских расшифровок для различных медицинских специальностей."
      ],
      "metadata": {
        "id": "ughyWTf3M3jU"
      }
    },
    {
      "cell_type": "code",
      "execution_count": 1,
      "metadata": {
        "id": "WBinnU9eCmIB",
        "colab": {
          "base_uri": "https://localhost:8080/"
        },
        "outputId": "63d5c42b-501b-454e-defd-b54b67c8870e"
      },
      "outputs": [
        {
          "output_type": "stream",
          "name": "stdout",
          "text": [
            "['mtsamples.csv']\n"
          ]
        }
      ],
      "source": [
        "import zipfile\n",
        "import os\n",
        "\n",
        "# Путь к архиву\n",
        "zip_path = 'mtsamples.csv.zip'\n",
        "# Папка для распаковки\n",
        "extract_dir = 'medical_data'\n",
        "\n",
        "with zipfile.ZipFile(zip_path, 'r') as zip_ref:\n",
        "    zip_ref.extractall(extract_dir)\n",
        "\n",
        "# содержимое\n",
        "print(os.listdir(extract_dir))"
      ]
    },
    {
      "cell_type": "code",
      "source": [
        "import pandas as pd\n",
        "\n",
        "df = pd.read_csv('medical_data/mtsamples.csv')\n",
        "print(df.head())\n",
        "\n",
        "\n",
        "# Используем колонку 'transcription' для получения текстов\n",
        "texts = df['transcription'].dropna().tolist()\n",
        "\n",
        "print(f\"Всего текстов для обработки: {len(texts)}\")"
      ],
      "metadata": {
        "id": "BLHAKxmaD7tO",
        "colab": {
          "base_uri": "https://localhost:8080/"
        },
        "outputId": "3dd42f54-8952-4ee6-8045-1f09f7ad708c"
      },
      "execution_count": 2,
      "outputs": [
        {
          "output_type": "stream",
          "name": "stdout",
          "text": [
            "   Unnamed: 0                                        description  \\\n",
            "0           0   A 23-year-old white female presents with comp...   \n",
            "1           1           Consult for laparoscopic gastric bypass.   \n",
            "2           2           Consult for laparoscopic gastric bypass.   \n",
            "3           3                             2-D M-Mode. Doppler.     \n",
            "4           4                                 2-D Echocardiogram   \n",
            "\n",
            "             medical_specialty                                sample_name  \\\n",
            "0         Allergy / Immunology                         Allergic Rhinitis    \n",
            "1                   Bariatrics   Laparoscopic Gastric Bypass Consult - 2    \n",
            "2                   Bariatrics   Laparoscopic Gastric Bypass Consult - 1    \n",
            "3   Cardiovascular / Pulmonary                    2-D Echocardiogram - 1    \n",
            "4   Cardiovascular / Pulmonary                    2-D Echocardiogram - 2    \n",
            "\n",
            "                                       transcription  \\\n",
            "0  SUBJECTIVE:,  This 23-year-old white female pr...   \n",
            "1  PAST MEDICAL HISTORY:, He has difficulty climb...   \n",
            "2  HISTORY OF PRESENT ILLNESS: , I have seen ABC ...   \n",
            "3  2-D M-MODE: , ,1.  Left atrial enlargement wit...   \n",
            "4  1.  The left ventricular cavity size and wall ...   \n",
            "\n",
            "                                            keywords  \n",
            "0  allergy / immunology, allergic rhinitis, aller...  \n",
            "1  bariatrics, laparoscopic gastric bypass, weigh...  \n",
            "2  bariatrics, laparoscopic gastric bypass, heart...  \n",
            "3  cardiovascular / pulmonary, 2-d m-mode, dopple...  \n",
            "4  cardiovascular / pulmonary, 2-d, doppler, echo...  \n",
            "Всего текстов для обработки: 4966\n"
          ]
        }
      ]
    },
    {
      "cell_type": "markdown",
      "source": [
        "## 2: Разметка правилом (rule-based labeling)\n",
        "\n",
        "Для медицинских заметок можно искать определённые слова или фразы, связанные с симптомами, диагнозами и т.п."
      ],
      "metadata": {
        "id": "s1pM1xOdEi3W"
      }
    },
    {
      "cell_type": "code",
      "source": [
        "import spacy\n",
        "\n",
        "def get_bio_tags(text, entities, nlp):\n",
        "    \"\"\"\n",
        "    Формирует BIO-метки для текста по списку сущностей.\n",
        "    :param text: исходный текст\n",
        "    :param entities: список dict с ключами 'start', 'end', 'entity'\n",
        "    :param nlp: модель spaCy для токенизации\n",
        "    :return: список BIO-меток для каждого токена\n",
        "    \"\"\"\n",
        "    doc = nlp.make_doc(text)\n",
        "    tags = ['O'] * len(doc)\n",
        "\n",
        "    for ent in entities:\n",
        "        start_char = ent['start']\n",
        "        end_char = ent['end']\n",
        "        label = ent['entity']\n",
        "        for token in doc:\n",
        "            token_start = token.idx\n",
        "            token_end = token.idx + len(token)\n",
        "            if token_start >= start_char and token_end <= end_char:\n",
        "                if token_start == start_char:\n",
        "                    tags[token.i] = 'B-' + label\n",
        "                else:\n",
        "                    tags[token.i] = 'I-' + label\n",
        "    return tags"
      ],
      "metadata": {
        "id": "Z9dzuNO1oKRs"
      },
      "execution_count": 18,
      "outputs": []
    },
    {
      "cell_type": "code",
      "source": [
        "def rule_based_labeling(text):\n",
        "    entities = []\n",
        "    keywords = {\n",
        "        'pain': 'SYMPTOM',\n",
        "        'hypertension': 'DIAGNOSIS',\n",
        "        'cough': 'SYMPTOM',\n",
        "        'diabetes': 'DIAGNOSIS',\n",
        "        'runny nose':'SYMPTOM',\n",
        "        'echocardiogram':'DIAGNOSTIC INSTRUMENTS',\n",
        "        'rhinitis':'DIAGNOSIS',\n",
        "        'ultrasound scan':'DIAGNOSTIC INSTRUMENTS'\n",
        "    }\n",
        "\n",
        "    lower_text = text.lower()\n",
        "    for word, label in keywords.items():\n",
        "        start_idx = lower_text.find(word)\n",
        "        if start_idx != -1:\n",
        "            end_idx = start_idx + len(word)\n",
        "            entities.append({'start': start_idx, 'end': end_idx, 'entity': label})\n",
        "    return {'text': text, 'entities': entities}"
      ],
      "metadata": {
        "id": "iuGv_BHbEm_k"
      },
      "execution_count": 19,
      "outputs": []
    },
    {
      "cell_type": "markdown",
      "source": [
        "## 3: Ручная разметка подмножества данных"
      ],
      "metadata": {
        "id": "LT4nHuykR2V5"
      }
    },
    {
      "cell_type": "code",
      "source": [
        "!pip install label-studio"
      ],
      "metadata": {
        "colab": {
          "base_uri": "https://localhost:8080/"
        },
        "id": "lJQqbZSuEwLl",
        "outputId": "4501add0-42cb-4cde-9bd2-cdf194a86cd3"
      },
      "execution_count": 5,
      "outputs": [
        {
          "output_type": "stream",
          "name": "stdout",
          "text": [
            "Requirement already satisfied: label-studio in /usr/local/lib/python3.11/dist-packages (1.20.0)\n",
            "Requirement already satisfied: Django<5.2.0,>=5.1.8 in /usr/local/lib/python3.11/dist-packages (from label-studio) (5.1.11)\n",
            "Requirement already satisfied: appdirs>=1.4.3 in /usr/local/lib/python3.11/dist-packages (from label-studio) (1.4.4)\n",
            "Requirement already satisfied: attr==0.3.1 in /usr/local/lib/python3.11/dist-packages (from label-studio) (0.3.1)\n",
            "Requirement already satisfied: attrs>=19.2.0 in /usr/local/lib/python3.11/dist-packages (from label-studio) (25.3.0)\n",
            "Requirement already satisfied: azure-storage-blob>=12.6.0 in /usr/local/lib/python3.11/dist-packages (from label-studio) (12.26.0)\n",
            "Requirement already satisfied: bleach<5.1.0,>=5.0.0 in /usr/local/lib/python3.11/dist-packages (from label-studio) (5.0.1)\n",
            "Requirement already satisfied: boto<3.0.0,>=2.49.0 in /usr/local/lib/python3.11/dist-packages (from label-studio) (2.49.0)\n",
            "Requirement already satisfied: boto3<2.0.0,>=1.28.58 in /usr/local/lib/python3.11/dist-packages (from label-studio) (1.39.7)\n",
            "Requirement already satisfied: botocore<2.0.0,>=1.31.58 in /usr/local/lib/python3.11/dist-packages (from label-studio) (1.39.7)\n",
            "Requirement already satisfied: colorama>=0.4.4 in /usr/local/lib/python3.11/dist-packages (from label-studio) (0.4.6)\n",
            "Requirement already satisfied: cryptography>=44.0.1 in /usr/local/lib/python3.11/dist-packages (from label-studio) (45.0.5)\n",
            "Requirement already satisfied: defusedxml>=0.7.1 in /usr/local/lib/python3.11/dist-packages (from label-studio) (0.7.1)\n",
            "Requirement already satisfied: django-annoying==0.10.6 in /usr/local/lib/python3.11/dist-packages (from label-studio) (0.10.6)\n",
            "Requirement already satisfied: django-cors-headers==4.7.0 in /usr/local/lib/python3.11/dist-packages (from label-studio) (4.7.0)\n",
            "Requirement already satisfied: django-csp==3.7 in /usr/local/lib/python3.11/dist-packages (from label-studio) (3.7)\n",
            "Requirement already satisfied: django-debug-toolbar==3.2.1 in /usr/local/lib/python3.11/dist-packages (from label-studio) (3.2.1)\n",
            "Requirement already satisfied: django-environ==0.10.0 in /usr/local/lib/python3.11/dist-packages (from label-studio) (0.10.0)\n",
            "Requirement already satisfied: django-extensions==3.2.3 in /usr/local/lib/python3.11/dist-packages (from label-studio) (3.2.3)\n",
            "Requirement already satisfied: django-filter==24.3 in /usr/local/lib/python3.11/dist-packages (from label-studio) (24.3)\n",
            "Requirement already satisfied: django-migration-linter<6.0.0,>=5.1.0 in /usr/local/lib/python3.11/dist-packages (from label-studio) (5.2.0)\n",
            "Requirement already satisfied: django-model-utils==4.1.1 in /usr/local/lib/python3.11/dist-packages (from label-studio) (4.1.1)\n",
            "Requirement already satisfied: django-ranged-fileresponse>=0.1.2 in /usr/local/lib/python3.11/dist-packages (from label-studio) (0.1.2)\n",
            "Requirement already satisfied: django-rq<3.0.0,>=2.10.2 in /usr/local/lib/python3.11/dist-packages (from label-studio) (2.10.3)\n",
            "Requirement already satisfied: django-storages==1.12.3 in /usr/local/lib/python3.11/dist-packages (from label-studio) (1.12.3)\n",
            "Requirement already satisfied: django-user-agents==0.4.0 in /usr/local/lib/python3.11/dist-packages (from label-studio) (0.4.0)\n",
            "Requirement already satisfied: djangorestframework==3.15.2 in /usr/local/lib/python3.11/dist-packages (from label-studio) (3.15.2)\n",
            "Requirement already satisfied: djangorestframework-simplejwt<6.0.0,>=5.4.0 in /usr/local/lib/python3.11/dist-packages (from djangorestframework-simplejwt[crypto]<6.0.0,>=5.4.0->label-studio) (5.4.0)\n",
            "Requirement already satisfied: drf-dynamic-fields==0.3.0 in /usr/local/lib/python3.11/dist-packages (from label-studio) (0.3.0)\n",
            "Requirement already satisfied: drf-flex-fields==0.9.5 in /usr/local/lib/python3.11/dist-packages (from label-studio) (0.9.5)\n",
            "Requirement already satisfied: drf-generators==0.3.0 in /usr/local/lib/python3.11/dist-packages (from label-studio) (0.3.0)\n",
            "Requirement already satisfied: google-cloud-logging<4.0.0,>=3.10.0 in /usr/local/lib/python3.11/dist-packages (from label-studio) (3.12.1)\n",
            "Requirement already satisfied: google-cloud-storage<3.0.0,>=2.13.0 in /usr/local/lib/python3.11/dist-packages (from label-studio) (2.19.0)\n",
            "Requirement already satisfied: humansignal-drf-yasg>=1.21.10.post1 in /usr/local/lib/python3.11/dist-packages (from label-studio) (1.21.10.post1)\n",
            "Requirement already satisfied: label-studio-sdk==1.0.18 in /usr/local/lib/python3.11/dist-packages (from label-studio) (1.0.18)\n",
            "Requirement already satisfied: launchdarkly-server-sdk==8.2.1 in /usr/local/lib/python3.11/dist-packages (from label-studio) (8.2.1)\n",
            "Requirement already satisfied: lockfile>=0.12.0 in /usr/local/lib/python3.11/dist-packages (from label-studio) (0.12.2)\n",
            "Requirement already satisfied: lxml>=4.9.4 in /usr/local/lib/python3.11/dist-packages (from lxml[html-clean]>=4.9.4->label-studio) (5.4.0)\n",
            "Requirement already satisfied: numpy<2.0.0,>=1.26.4 in /usr/local/lib/python3.11/dist-packages (from label-studio) (1.26.4)\n",
            "Requirement already satisfied: openai<2.0.0,>=1.10.0 in /usr/local/lib/python3.11/dist-packages (from label-studio) (1.95.1)\n",
            "Requirement already satisfied: ordered-set==4.0.2 in /usr/local/lib/python3.11/dist-packages (from label-studio) (4.0.2)\n",
            "Requirement already satisfied: pandas>=2.2.3 in /usr/local/lib/python3.11/dist-packages (from label-studio) (2.3.1)\n",
            "Requirement already satisfied: psycopg2-binary==2.9.10 in /usr/local/lib/python3.11/dist-packages (from label-studio) (2.9.10)\n",
            "Requirement already satisfied: pyarrow<19.0.0,>=18.1.0 in /usr/local/lib/python3.11/dist-packages (from label-studio) (18.1.0)\n",
            "Requirement already satisfied: pyboxen>=1.3.0 in /usr/local/lib/python3.11/dist-packages (from label-studio) (1.3.0)\n",
            "Requirement already satisfied: pydantic>=2.9.2 in /usr/local/lib/python3.11/dist-packages (from label-studio) (2.11.7)\n",
            "Requirement already satisfied: python-dateutil>=2.8.1 in /usr/local/lib/python3.11/dist-packages (from label-studio) (2.9.0.post0)\n",
            "Requirement already satisfied: python-json-logger==2.0.4 in /usr/local/lib/python3.11/dist-packages (from label-studio) (2.0.4)\n",
            "Requirement already satisfied: pytz<2023.0,>=2022.1 in /usr/local/lib/python3.11/dist-packages (from label-studio) (2022.7.1)\n",
            "Requirement already satisfied: pyyaml>=6.0.0 in /usr/local/lib/python3.11/dist-packages (from label-studio) (6.0.2)\n",
            "Requirement already satisfied: redis<5.3.0,>=5.2.1 in /usr/local/lib/python3.11/dist-packages (from label-studio) (5.2.1)\n",
            "Requirement already satisfied: requests<2.33.0,>=2.32.3 in /usr/local/lib/python3.11/dist-packages (from label-studio) (2.32.3)\n",
            "Requirement already satisfied: rq<2.0.0,>=1.16.2 in /usr/local/lib/python3.11/dist-packages (from label-studio) (1.16.2)\n",
            "Requirement already satisfied: rules==3.4 in /usr/local/lib/python3.11/dist-packages (from label-studio) (3.4)\n",
            "Requirement already satisfied: sentry-sdk>=2.16.0 in /usr/local/lib/python3.11/dist-packages (from label-studio) (2.32.0)\n",
            "Requirement already satisfied: setuptools>=75.4.0 in /usr/local/lib/python3.11/dist-packages (from label-studio) (80.9.0)\n",
            "Requirement already satisfied: tldextract>=5.1.3 in /usr/local/lib/python3.11/dist-packages (from label-studio) (5.3.0)\n",
            "Requirement already satisfied: ujson>=3.0.0 in /usr/local/lib/python3.11/dist-packages (from label-studio) (5.10.0)\n",
            "Requirement already satisfied: urllib3<2.0.0,>=1.26.18 in /usr/local/lib/python3.11/dist-packages (from label-studio) (1.26.20)\n",
            "Requirement already satisfied: wheel<=0.40.0,>=0.38.1 in /usr/local/lib/python3.11/dist-packages (from label-studio) (0.40.0)\n",
            "Requirement already satisfied: xmljson==0.2.1 in /usr/local/lib/python3.11/dist-packages (from label-studio) (0.2.1)\n",
            "Requirement already satisfied: six in /usr/local/lib/python3.11/dist-packages (from django-annoying==0.10.6->label-studio) (1.17.0)\n",
            "Requirement already satisfied: asgiref>=3.6 in /usr/local/lib/python3.11/dist-packages (from django-cors-headers==4.7.0->label-studio) (3.9.1)\n",
            "Requirement already satisfied: sqlparse>=0.2.0 in /usr/local/lib/python3.11/dist-packages (from django-debug-toolbar==3.2.1->label-studio) (0.5.3)\n",
            "Requirement already satisfied: user-agents in /usr/local/lib/python3.11/dist-packages (from django-user-agents==0.4.0->label-studio) (2.2.0)\n",
            "Requirement already satisfied: Pillow>=10.0.1 in /usr/local/lib/python3.11/dist-packages (from label-studio-sdk==1.0.18->label-studio) (11.2.1)\n",
            "Requirement already satisfied: datamodel-code-generator==0.26.1 in /usr/local/lib/python3.11/dist-packages (from label-studio-sdk==1.0.18->label-studio) (0.26.1)\n",
            "Requirement already satisfied: httpx>=0.21.2 in /usr/local/lib/python3.11/dist-packages (from label-studio-sdk==1.0.18->label-studio) (0.28.1)\n",
            "Requirement already satisfied: ijson>=3.2.3 in /usr/local/lib/python3.11/dist-packages (from label-studio-sdk==1.0.18->label-studio) (3.4.0)\n",
            "Requirement already satisfied: jsf<0.12.0,>=0.11.2 in /usr/local/lib/python3.11/dist-packages (from label-studio-sdk==1.0.18->label-studio) (0.11.2)\n",
            "Requirement already satisfied: jsonschema>=4.23.0 in /usr/local/lib/python3.11/dist-packages (from label-studio-sdk==1.0.18->label-studio) (4.24.0)\n",
            "Requirement already satisfied: nltk<4.0.0,>=3.9.1 in /usr/local/lib/python3.11/dist-packages (from label-studio-sdk==1.0.18->label-studio) (3.9.1)\n",
            "Requirement already satisfied: opencv-python<5.0.0,>=4.9.0 in /usr/local/lib/python3.11/dist-packages (from label-studio-sdk==1.0.18->label-studio) (4.11.0.86)\n",
            "Requirement already satisfied: pydantic-core<3.0.0,>=2.18.2 in /usr/local/lib/python3.11/dist-packages (from label-studio-sdk==1.0.18->label-studio) (2.33.2)\n",
            "Requirement already satisfied: pyjwt<3.0.0,>=2.10.1 in /usr/local/lib/python3.11/dist-packages (from label-studio-sdk==1.0.18->label-studio) (2.10.1)\n",
            "Requirement already satisfied: requests-mock==1.12.1 in /usr/local/lib/python3.11/dist-packages (from label-studio-sdk==1.0.18->label-studio) (1.12.1)\n",
            "Requirement already satisfied: typing_extensions>=4.0.0 in /usr/local/lib/python3.11/dist-packages (from label-studio-sdk==1.0.18->label-studio) (4.14.1)\n",
            "Requirement already satisfied: certifi>=2018.4.16 in /usr/local/lib/python3.11/dist-packages (from launchdarkly-server-sdk==8.2.1->label-studio) (2025.7.14)\n",
            "Requirement already satisfied: expiringdict>=1.1.4 in /usr/local/lib/python3.11/dist-packages (from launchdarkly-server-sdk==8.2.1->label-studio) (1.2.2)\n",
            "Requirement already satisfied: pyRFC3339>=1.0 in /usr/local/lib/python3.11/dist-packages (from launchdarkly-server-sdk==8.2.1->label-studio) (2.0.1)\n",
            "Requirement already satisfied: semver>=2.10.2 in /usr/local/lib/python3.11/dist-packages (from launchdarkly-server-sdk==8.2.1->label-studio) (3.0.4)\n",
            "Requirement already satisfied: argcomplete<4.0,>=1.10 in /usr/local/lib/python3.11/dist-packages (from datamodel-code-generator==0.26.1->label-studio-sdk==1.0.18->label-studio) (3.6.2)\n",
            "Requirement already satisfied: black>=19.10b0 in /usr/local/lib/python3.11/dist-packages (from datamodel-code-generator==0.26.1->label-studio-sdk==1.0.18->label-studio) (25.1.0)\n",
            "Requirement already satisfied: genson<2.0,>=1.2.1 in /usr/local/lib/python3.11/dist-packages (from datamodel-code-generator==0.26.1->label-studio-sdk==1.0.18->label-studio) (1.3.0)\n",
            "Requirement already satisfied: inflect<6.0,>=4.1.0 in /usr/local/lib/python3.11/dist-packages (from datamodel-code-generator==0.26.1->label-studio-sdk==1.0.18->label-studio) (5.6.2)\n",
            "Requirement already satisfied: isort<6.0,>=4.3.21 in /usr/local/lib/python3.11/dist-packages (from datamodel-code-generator==0.26.1->label-studio-sdk==1.0.18->label-studio) (5.13.2)\n",
            "Requirement already satisfied: jinja2<4.0,>=2.10.1 in /usr/local/lib/python3.11/dist-packages (from datamodel-code-generator==0.26.1->label-studio-sdk==1.0.18->label-studio) (3.1.6)\n",
            "Requirement already satisfied: packaging in /usr/local/lib/python3.11/dist-packages (from datamodel-code-generator==0.26.1->label-studio-sdk==1.0.18->label-studio) (24.2)\n",
            "Requirement already satisfied: azure-core>=1.30.0 in /usr/local/lib/python3.11/dist-packages (from azure-storage-blob>=12.6.0->label-studio) (1.35.0)\n",
            "Requirement already satisfied: isodate>=0.6.1 in /usr/local/lib/python3.11/dist-packages (from azure-storage-blob>=12.6.0->label-studio) (0.7.2)\n",
            "Requirement already satisfied: webencodings in /usr/local/lib/python3.11/dist-packages (from bleach<5.1.0,>=5.0.0->label-studio) (0.5.1)\n",
            "Requirement already satisfied: jmespath<2.0.0,>=0.7.1 in /usr/local/lib/python3.11/dist-packages (from boto3<2.0.0,>=1.28.58->label-studio) (1.0.1)\n",
            "Requirement already satisfied: s3transfer<0.14.0,>=0.13.0 in /usr/local/lib/python3.11/dist-packages (from boto3<2.0.0,>=1.28.58->label-studio) (0.13.0)\n",
            "Requirement already satisfied: cffi>=1.14 in /usr/local/lib/python3.11/dist-packages (from cryptography>=44.0.1->label-studio) (1.17.1)\n",
            "Requirement already satisfied: toml>=0.10.2 in /usr/local/lib/python3.11/dist-packages (from django-migration-linter<6.0.0,>=5.1.0->label-studio) (0.10.2)\n",
            "Requirement already satisfied: google-api-core!=2.0.*,!=2.1.*,!=2.10.*,!=2.2.*,!=2.3.*,!=2.4.*,!=2.5.*,!=2.6.*,!=2.7.*,!=2.8.*,!=2.9.*,<3.0.0,>=1.34.1 in /usr/local/lib/python3.11/dist-packages (from google-api-core[grpc]!=2.0.*,!=2.1.*,!=2.10.*,!=2.2.*,!=2.3.*,!=2.4.*,!=2.5.*,!=2.6.*,!=2.7.*,!=2.8.*,!=2.9.*,<3.0.0,>=1.34.1->google-cloud-logging<4.0.0,>=3.10.0->label-studio) (2.25.1)\n",
            "Requirement already satisfied: google-auth!=2.24.0,!=2.25.0,<3.0.0,>=2.14.1 in /usr/local/lib/python3.11/dist-packages (from google-cloud-logging<4.0.0,>=3.10.0->label-studio) (2.38.0)\n",
            "Requirement already satisfied: google-cloud-appengine-logging<2.0.0,>=0.1.3 in /usr/local/lib/python3.11/dist-packages (from google-cloud-logging<4.0.0,>=3.10.0->label-studio) (1.6.2)\n",
            "Requirement already satisfied: google-cloud-audit-log<1.0.0,>=0.3.1 in /usr/local/lib/python3.11/dist-packages (from google-cloud-logging<4.0.0,>=3.10.0->label-studio) (0.3.2)\n",
            "Requirement already satisfied: google-cloud-core<3.0.0,>=2.0.0 in /usr/local/lib/python3.11/dist-packages (from google-cloud-logging<4.0.0,>=3.10.0->label-studio) (2.4.3)\n",
            "Requirement already satisfied: grpc-google-iam-v1<1.0.0,>=0.12.4 in /usr/local/lib/python3.11/dist-packages (from google-cloud-logging<4.0.0,>=3.10.0->label-studio) (0.14.2)\n",
            "Requirement already satisfied: opentelemetry-api>=1.9.0 in /usr/local/lib/python3.11/dist-packages (from google-cloud-logging<4.0.0,>=3.10.0->label-studio) (1.35.0)\n",
            "Requirement already satisfied: proto-plus<2.0.0,>=1.22.0 in /usr/local/lib/python3.11/dist-packages (from google-cloud-logging<4.0.0,>=3.10.0->label-studio) (1.26.1)\n",
            "Requirement already satisfied: protobuf!=4.21.0,!=4.21.1,!=4.21.2,!=4.21.3,!=4.21.4,!=4.21.5,<7.0.0,>=3.20.2 in /usr/local/lib/python3.11/dist-packages (from google-cloud-logging<4.0.0,>=3.10.0->label-studio) (5.29.5)\n",
            "Requirement already satisfied: google-resumable-media>=2.7.2 in /usr/local/lib/python3.11/dist-packages (from google-cloud-storage<3.0.0,>=2.13.0->label-studio) (2.7.2)\n",
            "Requirement already satisfied: google-crc32c<2.0dev,>=1.0 in /usr/local/lib/python3.11/dist-packages (from google-cloud-storage<3.0.0,>=2.13.0->label-studio) (1.7.1)\n",
            "Requirement already satisfied: inflection>=0.3.1 in /usr/local/lib/python3.11/dist-packages (from humansignal-drf-yasg>=1.21.10.post1->label-studio) (0.5.1)\n",
            "Requirement already satisfied: uritemplate>=3.0.0 in /usr/local/lib/python3.11/dist-packages (from humansignal-drf-yasg>=1.21.10.post1->label-studio) (4.2.0)\n",
            "Requirement already satisfied: lxml_html_clean in /usr/local/lib/python3.11/dist-packages (from lxml[html-clean]>=4.9.4->label-studio) (0.4.2)\n",
            "Requirement already satisfied: anyio<5,>=3.5.0 in /usr/local/lib/python3.11/dist-packages (from openai<2.0.0,>=1.10.0->label-studio) (4.9.0)\n",
            "Requirement already satisfied: distro<2,>=1.7.0 in /usr/local/lib/python3.11/dist-packages (from openai<2.0.0,>=1.10.0->label-studio) (1.9.0)\n",
            "Requirement already satisfied: jiter<1,>=0.4.0 in /usr/local/lib/python3.11/dist-packages (from openai<2.0.0,>=1.10.0->label-studio) (0.10.0)\n",
            "Requirement already satisfied: sniffio in /usr/local/lib/python3.11/dist-packages (from openai<2.0.0,>=1.10.0->label-studio) (1.3.1)\n",
            "Requirement already satisfied: tqdm>4 in /usr/local/lib/python3.11/dist-packages (from openai<2.0.0,>=1.10.0->label-studio) (4.67.1)\n",
            "Requirement already satisfied: tzdata>=2022.7 in /usr/local/lib/python3.11/dist-packages (from pandas>=2.2.3->label-studio) (2025.2)\n",
            "Requirement already satisfied: rich>=12.5.1 in /usr/local/lib/python3.11/dist-packages (from pyboxen>=1.3.0->label-studio) (13.9.4)\n",
            "Requirement already satisfied: annotated-types>=0.6.0 in /usr/local/lib/python3.11/dist-packages (from pydantic>=2.9.2->label-studio) (0.7.0)\n",
            "Requirement already satisfied: typing-inspection>=0.4.0 in /usr/local/lib/python3.11/dist-packages (from pydantic>=2.9.2->label-studio) (0.4.1)\n",
            "Requirement already satisfied: charset-normalizer<4,>=2 in /usr/local/lib/python3.11/dist-packages (from requests<2.33.0,>=2.32.3->label-studio) (3.4.2)\n",
            "Requirement already satisfied: idna<4,>=2.5 in /usr/local/lib/python3.11/dist-packages (from requests<2.33.0,>=2.32.3->label-studio) (3.10)\n",
            "Requirement already satisfied: click>=5 in /usr/local/lib/python3.11/dist-packages (from rq<2.0.0,>=1.16.2->label-studio) (8.2.1)\n",
            "Requirement already satisfied: requests-file>=1.4 in /usr/local/lib/python3.11/dist-packages (from tldextract>=5.1.3->label-studio) (2.1.0)\n",
            "Requirement already satisfied: filelock>=3.0.8 in /usr/local/lib/python3.11/dist-packages (from tldextract>=5.1.3->label-studio) (3.18.0)\n",
            "Requirement already satisfied: pycparser in /usr/local/lib/python3.11/dist-packages (from cffi>=1.14->cryptography>=44.0.1->label-studio) (2.22)\n",
            "Requirement already satisfied: googleapis-common-protos<2.0.0,>=1.56.2 in /usr/local/lib/python3.11/dist-packages (from google-api-core!=2.0.*,!=2.1.*,!=2.10.*,!=2.2.*,!=2.3.*,!=2.4.*,!=2.5.*,!=2.6.*,!=2.7.*,!=2.8.*,!=2.9.*,<3.0.0,>=1.34.1->google-api-core[grpc]!=2.0.*,!=2.1.*,!=2.10.*,!=2.2.*,!=2.3.*,!=2.4.*,!=2.5.*,!=2.6.*,!=2.7.*,!=2.8.*,!=2.9.*,<3.0.0,>=1.34.1->google-cloud-logging<4.0.0,>=3.10.0->label-studio) (1.70.0)\n",
            "Requirement already satisfied: grpcio<2.0.0,>=1.33.2 in /usr/local/lib/python3.11/dist-packages (from google-api-core[grpc]!=2.0.*,!=2.1.*,!=2.10.*,!=2.2.*,!=2.3.*,!=2.4.*,!=2.5.*,!=2.6.*,!=2.7.*,!=2.8.*,!=2.9.*,<3.0.0,>=1.34.1->google-cloud-logging<4.0.0,>=3.10.0->label-studio) (1.73.1)\n",
            "Requirement already satisfied: grpcio-status<2.0.0,>=1.33.2 in /usr/local/lib/python3.11/dist-packages (from google-api-core[grpc]!=2.0.*,!=2.1.*,!=2.10.*,!=2.2.*,!=2.3.*,!=2.4.*,!=2.5.*,!=2.6.*,!=2.7.*,!=2.8.*,!=2.9.*,<3.0.0,>=1.34.1->google-cloud-logging<4.0.0,>=3.10.0->label-studio) (1.71.2)\n",
            "Requirement already satisfied: cachetools<6.0,>=2.0.0 in /usr/local/lib/python3.11/dist-packages (from google-auth!=2.24.0,!=2.25.0,<3.0.0,>=2.14.1->google-cloud-logging<4.0.0,>=3.10.0->label-studio) (5.5.2)\n",
            "Requirement already satisfied: pyasn1-modules>=0.2.1 in /usr/local/lib/python3.11/dist-packages (from google-auth!=2.24.0,!=2.25.0,<3.0.0,>=2.14.1->google-cloud-logging<4.0.0,>=3.10.0->label-studio) (0.4.2)\n",
            "Requirement already satisfied: rsa<5,>=3.1.4 in /usr/local/lib/python3.11/dist-packages (from google-auth!=2.24.0,!=2.25.0,<3.0.0,>=2.14.1->google-cloud-logging<4.0.0,>=3.10.0->label-studio) (4.9.1)\n",
            "Requirement already satisfied: httpcore==1.* in /usr/local/lib/python3.11/dist-packages (from httpx>=0.21.2->label-studio-sdk==1.0.18->label-studio) (1.0.9)\n",
            "Requirement already satisfied: h11>=0.16 in /usr/local/lib/python3.11/dist-packages (from httpcore==1.*->httpx>=0.21.2->label-studio-sdk==1.0.18->label-studio) (0.16.0)\n",
            "Requirement already satisfied: faker>=15.3.4 in /usr/local/lib/python3.11/dist-packages (from jsf<0.12.0,>=0.11.2->label-studio-sdk==1.0.18->label-studio) (37.4.2)\n",
            "Requirement already satisfied: rstr>=3.2.0 in /usr/local/lib/python3.11/dist-packages (from jsf<0.12.0,>=0.11.2->label-studio-sdk==1.0.18->label-studio) (3.2.2)\n",
            "Requirement already satisfied: smart-open>=6.3.0 in /usr/local/lib/python3.11/dist-packages (from smart-open[http]>=6.3.0->jsf<0.12.0,>=0.11.2->label-studio-sdk==1.0.18->label-studio) (7.3.0.post1)\n",
            "Requirement already satisfied: jsonschema-specifications>=2023.03.6 in /usr/local/lib/python3.11/dist-packages (from jsonschema>=4.23.0->label-studio-sdk==1.0.18->label-studio) (2025.4.1)\n",
            "Requirement already satisfied: referencing>=0.28.4 in /usr/local/lib/python3.11/dist-packages (from jsonschema>=4.23.0->label-studio-sdk==1.0.18->label-studio) (0.36.2)\n",
            "Requirement already satisfied: rpds-py>=0.7.1 in /usr/local/lib/python3.11/dist-packages (from jsonschema>=4.23.0->label-studio-sdk==1.0.18->label-studio) (0.26.0)\n",
            "Requirement already satisfied: joblib in /usr/local/lib/python3.11/dist-packages (from nltk<4.0.0,>=3.9.1->label-studio-sdk==1.0.18->label-studio) (1.5.1)\n",
            "Requirement already satisfied: regex>=2021.8.3 in /usr/local/lib/python3.11/dist-packages (from nltk<4.0.0,>=3.9.1->label-studio-sdk==1.0.18->label-studio) (2024.11.6)\n",
            "Requirement already satisfied: importlib-metadata<8.8.0,>=6.0 in /usr/local/lib/python3.11/dist-packages (from opentelemetry-api>=1.9.0->google-cloud-logging<4.0.0,>=3.10.0->label-studio) (8.7.0)\n",
            "Requirement already satisfied: markdown-it-py>=2.2.0 in /usr/local/lib/python3.11/dist-packages (from rich>=12.5.1->pyboxen>=1.3.0->label-studio) (3.0.0)\n",
            "Requirement already satisfied: pygments<3.0.0,>=2.13.0 in /usr/local/lib/python3.11/dist-packages (from rich>=12.5.1->pyboxen>=1.3.0->label-studio) (2.19.2)\n",
            "Requirement already satisfied: ua-parser>=0.10.0 in /usr/local/lib/python3.11/dist-packages (from user-agents->django-user-agents==0.4.0->label-studio) (1.0.1)\n",
            "Requirement already satisfied: mypy-extensions>=0.4.3 in /usr/local/lib/python3.11/dist-packages (from black>=19.10b0->datamodel-code-generator==0.26.1->label-studio-sdk==1.0.18->label-studio) (1.1.0)\n",
            "Requirement already satisfied: pathspec>=0.9.0 in /usr/local/lib/python3.11/dist-packages (from black>=19.10b0->datamodel-code-generator==0.26.1->label-studio-sdk==1.0.18->label-studio) (0.12.1)\n",
            "Requirement already satisfied: platformdirs>=2 in /usr/local/lib/python3.11/dist-packages (from black>=19.10b0->datamodel-code-generator==0.26.1->label-studio-sdk==1.0.18->label-studio) (4.3.8)\n",
            "Requirement already satisfied: zipp>=3.20 in /usr/local/lib/python3.11/dist-packages (from importlib-metadata<8.8.0,>=6.0->opentelemetry-api>=1.9.0->google-cloud-logging<4.0.0,>=3.10.0->label-studio) (3.23.0)\n",
            "Requirement already satisfied: MarkupSafe>=2.0 in /usr/local/lib/python3.11/dist-packages (from jinja2<4.0,>=2.10.1->datamodel-code-generator==0.26.1->label-studio-sdk==1.0.18->label-studio) (3.0.2)\n",
            "Requirement already satisfied: mdurl~=0.1 in /usr/local/lib/python3.11/dist-packages (from markdown-it-py>=2.2.0->rich>=12.5.1->pyboxen>=1.3.0->label-studio) (0.1.2)\n",
            "Requirement already satisfied: pyasn1<0.7.0,>=0.6.1 in /usr/local/lib/python3.11/dist-packages (from pyasn1-modules>=0.2.1->google-auth!=2.24.0,!=2.25.0,<3.0.0,>=2.14.1->google-cloud-logging<4.0.0,>=3.10.0->label-studio) (0.6.1)\n",
            "Requirement already satisfied: email-validator>=2.0.0 in /usr/local/lib/python3.11/dist-packages (from pydantic[email]!=2.4.0,<3.0,>=1.10.0; python_version >= \"3.11\" and python_version < \"4.0\"->datamodel-code-generator==0.26.1->label-studio-sdk==1.0.18->label-studio) (2.2.0)\n",
            "Requirement already satisfied: wrapt in /usr/local/lib/python3.11/dist-packages (from smart-open>=6.3.0->smart-open[http]>=6.3.0->jsf<0.12.0,>=0.11.2->label-studio-sdk==1.0.18->label-studio) (1.17.2)\n",
            "Requirement already satisfied: ua-parser-builtins in /usr/local/lib/python3.11/dist-packages (from ua-parser>=0.10.0->user-agents->django-user-agents==0.4.0->label-studio) (0.18.0.post1)\n",
            "Requirement already satisfied: dnspython>=2.0.0 in /usr/local/lib/python3.11/dist-packages (from email-validator>=2.0.0->pydantic[email]!=2.4.0,<3.0,>=1.10.0; python_version >= \"3.11\" and python_version < \"4.0\"->datamodel-code-generator==0.26.1->label-studio-sdk==1.0.18->label-studio) (2.7.0)\n"
          ]
        }
      ]
    },
    {
      "cell_type": "markdown",
      "source": [
        "## 4: Объединение данных"
      ],
      "metadata": {
        "id": "LFKKNZKMSEqH"
      }
    },
    {
      "cell_type": "code",
      "source": [
        "import json\n",
        "\n",
        "# список ключевых слов\n",
        "keywords_map = {\n",
        "    'pain': 'SYMPTOM',\n",
        "    'hypertension': 'DIAGNOSIS',\n",
        "    'cough': 'SYMPTOM',\n",
        "    'diabetes': 'DIAGNOSIS',\n",
        "    'runny nose': 'SYMPTOM',\n",
        "    'echocardiogram': 'DIAGNOSTIC INSTRUMENTS',\n",
        "    'rhinitis': 'DIAGNOSIS',\n",
        "    'ultrasound scan': 'DIAGNOSTIC INSTRUMENTS'\n",
        "}\n",
        "\n",
        "# Загрузка файла данных\n",
        "with open('manual_annotations.json', encoding='utf-8') as f:\n",
        "    data = json.load(f)\n",
        "\n",
        "prepared_data = []\n",
        "\n",
        "for item in data:\n",
        "    text = item['data']['transcription']\n",
        "    entities = []\n",
        "\n",
        "    # Для каждого слова ищем его в тексте\n",
        "    for keyword, label in keywords_map.items():\n",
        "        start_idx = text.lower().find(keyword.lower())\n",
        "        while start_idx != -1:\n",
        "            end_idx = start_idx + len(keyword)\n",
        "            # Добавляем сущность\n",
        "            entities.append({\n",
        "                'start': start_idx,\n",
        "                'end': end_idx,\n",
        "                'entity': label\n",
        "            })\n",
        "            # Ищем далее в тексте, чтобы найти все вхождения\n",
        "            start_idx = text.lower().find(keyword.lower(), end_idx)\n",
        "\n",
        "    prepared_data.append({\n",
        "        'text': text,\n",
        "        'entities': entities\n",
        "    })\n",
        "\n",
        "# Сохраняем результат\n",
        "with open('prepared_annotations.json', 'w', encoding='utf-8') as f:\n",
        "    json.dump(prepared_data, f, ensure_ascii=False, indent=2)\n",
        "\n"
      ],
      "metadata": {
        "id": "xIQk9oq5E08d"
      },
      "execution_count": 31,
      "outputs": []
    },
    {
      "cell_type": "code",
      "source": [
        "prepared_annotations = prepared_data\n",
        "\n",
        "# Объединение с автоматической разметкой\n",
        "combined_data = rule_annotated_data + prepared_annotations\n",
        "\n",
        "# Сохраняем объединённый датасет\n",
        "with open('combined_annotated_data.json', 'w', encoding='utf-8') as f:\n",
        "    json.dump(combined_data, f, ensure_ascii=False, indent=2)"
      ],
      "metadata": {
        "id": "tUbZ60jIq36U"
      },
      "execution_count": 33,
      "outputs": []
    },
    {
      "cell_type": "markdown",
      "source": [
        "## 5: Обучение модели"
      ],
      "metadata": {
        "id": "72gs9PDCSVKl"
      }
    },
    {
      "cell_type": "code",
      "source": [
        "import spacy\n",
        "from spacy.training import Example\n",
        "import json\n",
        "import random\n",
        "from sklearn.model_selection import train_test_split\n",
        "\n",
        "# Загружаем данные\n",
        "with open('combined_annotated_data.json', 'r', encoding='utf-8') as f:\n",
        "    data = json.load(f)\n",
        "\n",
        "# Разделяем на обучающую и тестовую выборки\n",
        "train_data, test_data = train_test_split(data, test_size=0.2, random_state=42)\n",
        "\n",
        "# Инициализация модели\n",
        "nlp = spacy.blank('ru')\n",
        "\n",
        "# Добавляем компонент NER\n",
        "if 'ner' not in nlp.pipe_names:\n",
        "    ner = nlp.add_pipe('ner')\n",
        "\n",
        "# функция get_bio_tags для преобразования\n",
        "def get_bio_tags(text, entities, nlp):\n",
        "    \"\"\"\n",
        "    Преобразует entities в BIO-метки для каждого токена.\n",
        "    \"\"\"\n",
        "    doc = nlp.make_doc(text)\n",
        "    bio_labels = ['O'] * len(doc)\n",
        "    for ent in entities:\n",
        "        start_char = ent['start']\n",
        "        end_char = ent['end']\n",
        "        label = ent.get('entity', None)  # Используем ключ 'entity'\n",
        "        if label is None:\n",
        "            continue  # пропускаем, если ключ не найден\n",
        "        for token in doc:\n",
        "            if token.idx >= start_char and token.idx < end_char:\n",
        "                if token.idx == start_char:\n",
        "                    bio_labels[token.i] = 'B-' + label\n",
        "                else:\n",
        "                    bio_labels[token.i] = 'I-' + label\n",
        "    return bio_labels\n",
        "\n",
        "# Собираем уникальные метки из обучающих данных\n",
        "labels = set()\n",
        "for item in train_data:\n",
        "    if 'entities' in item:\n",
        "        bio_labels = get_bio_tags(item['text'], item['entities'], nlp)\n",
        "        for label in set(bio_labels):\n",
        "            if label != 'O':\n",
        "                if label.startswith('B-') or label.startswith('I-'):\n",
        "                    labels.add(label[2:])\n",
        "                else:\n",
        "                    labels.add(label)\n",
        "\n",
        "# Добавляем метки в NER\n",
        "for label in labels:\n",
        "    ner.add_label(label)\n",
        "\n",
        "# Подготовка данных для обучения\n",
        "def prepare_examples(data):\n",
        "    examples = []\n",
        "    for item in data:\n",
        "        if 'entities' in item:\n",
        "            bio_labels = get_bio_tags(item['text'], item['entities'], nlp)\n",
        "            doc = nlp.make_doc(item['text'])\n",
        "            example = Example.from_dict(doc, {'entities': [\n",
        "                (token.idx, token.idx + len(token), label)\n",
        "                for token, label in zip(doc, bio_labels) if label != 'O'\n",
        "            ]})\n",
        "            examples.append(example)\n",
        "    return examples\n",
        "\n",
        "train_examples = prepare_examples(train_data)\n",
        "test_examples = prepare_examples(test_data)\n",
        "\n",
        "# Обучение модели\n",
        "optimizer = nlp.begin_training()\n",
        "for i in range(20):\n",
        "    random.shuffle(train_examples)\n",
        "    losses = {}\n",
        "    for batch in spacy.util.minibatch(train_examples, size=8):\n",
        "        nlp.update(batch, drop=0.2, losses=losses)\n",
        "    print(f'Итерация {i+1}, Потери: {losses}')\n",
        "\n",
        "# Сохраняем модель\n",
        "nlp.to_disk('medical_ner_model')\n",
        "print(\"Модель сохранена в 'medical_ner_model'\")"
      ],
      "metadata": {
        "id": "gxqLEvsCE_MV",
        "colab": {
          "base_uri": "https://localhost:8080/"
        },
        "outputId": "949699f0-70d7-4951-a976-ba52cc58c5c4"
      },
      "execution_count": 49,
      "outputs": [
        {
          "output_type": "stream",
          "name": "stdout",
          "text": [
            "Итерация 1, Потери: {'ner': 31308.431866851635}\n",
            "Итерация 2, Потери: {'ner': 92.3534528866138}\n",
            "Итерация 3, Потери: {'ner': 88.79169252150257}\n",
            "Итерация 4, Потери: {'ner': 76.84238720819697}\n",
            "Итерация 5, Потери: {'ner': 57.53656131036365}\n",
            "Итерация 6, Потери: {'ner': 49.55083844337774}\n",
            "Итерация 7, Потери: {'ner': 44.85488858993419}\n",
            "Итерация 8, Потери: {'ner': 35.343016229060005}\n",
            "Итерация 9, Потери: {'ner': 26.332903076077965}\n",
            "Итерация 10, Потери: {'ner': 15.62250665789652}\n",
            "Итерация 11, Потери: {'ner': 12.886784604315137}\n",
            "Итерация 12, Потери: {'ner': 9.775174353480494}\n",
            "Итерация 13, Потери: {'ner': 10.916067580825617}\n",
            "Итерация 14, Потери: {'ner': 8.842815246032261}\n",
            "Итерация 15, Потери: {'ner': 3.818358270905612}\n",
            "Итерация 16, Потери: {'ner': 10.29693182906175}\n",
            "Итерация 17, Потери: {'ner': 4.925298140457964}\n",
            "Итерация 18, Потери: {'ner': 4.7665935652282885}\n",
            "Итерация 19, Потери: {'ner': 2.6254525717248067}\n",
            "Итерация 20, Потери: {'ner': 1.7099984571933355}\n",
            "Модель сохранена в 'medical_ner_model'\n"
          ]
        }
      ]
    },
    {
      "cell_type": "markdown",
      "source": [
        "## 6: Оценка модели"
      ],
      "metadata": {
        "id": "yrUjAP6ZFIw9"
      }
    },
    {
      "cell_type": "code",
      "source": [
        "# Предсказание BIO-меток для тестовых данных\n",
        "predictions = []\n",
        "for test_example in test_examples:\n",
        "    # предсказание модели\n",
        "    pred = nlp(test_example.text)\n",
        "    pred_labels = ['O'] * len(pred)\n",
        "    for ent in pred.ents:\n",
        "        start_char = ent.start_char\n",
        "        end_char = ent.end_char\n",
        "        label = ent.label_\n",
        "        for token in pred:\n",
        "            if token.idx >= start_char and token.idx < end_char:\n",
        "                if token.idx == start_char:\n",
        "                    pred_labels[token.i] = 'B-' + label\n",
        "                else:\n",
        "                    pred_labels[token.i] = 'I-' + label\n",
        "    predictions.append((test_example, pred_labels))"
      ],
      "metadata": {
        "id": "xgUBJDaOuqCr"
      },
      "execution_count": 50,
      "outputs": []
    },
    {
      "cell_type": "code",
      "source": [
        "# Получение истинных BIO-меток и сравнение\n",
        "true_labels = []\n",
        "pred_labels = []\n",
        "\n",
        "for example, pred_bio in predictions:\n",
        "    # Получаем исходный Doc с аннотациями\n",
        "    doc = example.reference\n",
        "    # Получаем истинные BIO-метки\n",
        "    true_bio = []\n",
        "    for token in doc:\n",
        "        if token.ent_type_:\n",
        "            if token.ent_iob_ == 'B':\n",
        "                true_bio.append('B-' + token.ent_type_)\n",
        "            elif token.ent_iob_ == 'I':\n",
        "                true_bio.append('I-' + token.ent_type_)\n",
        "            else:\n",
        "                true_bio.append('O')\n",
        "        else:\n",
        "            true_bio.append('O')\n",
        "    true_labels.append(true_bio)\n",
        "    pred_labels.append(pred_bio)"
      ],
      "metadata": {
        "id": "L1HS06g6v4P8"
      },
      "execution_count": 52,
      "outputs": []
    },
    {
      "cell_type": "code",
      "source": [
        "!pip install seqeval"
      ],
      "metadata": {
        "colab": {
          "base_uri": "https://localhost:8080/"
        },
        "id": "Yl-FPpfjrtZL",
        "outputId": "de45af30-e09c-47be-bfbc-4782d67300d3"
      },
      "execution_count": 37,
      "outputs": [
        {
          "output_type": "stream",
          "name": "stdout",
          "text": [
            "Collecting seqeval\n",
            "  Downloading seqeval-1.2.2.tar.gz (43 kB)\n",
            "\u001b[?25l     \u001b[90m━━━━━━━━━━━━━━━━━━━━━━━━━━━━━━━━━━━━━━━━\u001b[0m \u001b[32m0.0/43.6 kB\u001b[0m \u001b[31m?\u001b[0m eta \u001b[36m-:--:--\u001b[0m\r\u001b[2K     \u001b[90m━━━━━━━━━━━━━━━━━━━━━━━━━━━━━━━━━━━━━━━━\u001b[0m \u001b[32m43.6/43.6 kB\u001b[0m \u001b[31m2.8 MB/s\u001b[0m eta \u001b[36m0:00:00\u001b[0m\n",
            "\u001b[?25h  Preparing metadata (setup.py) ... \u001b[?25l\u001b[?25hdone\n",
            "Requirement already satisfied: numpy>=1.14.0 in /usr/local/lib/python3.11/dist-packages (from seqeval) (1.26.4)\n",
            "Requirement already satisfied: scikit-learn>=0.21.3 in /usr/local/lib/python3.11/dist-packages (from seqeval) (1.6.1)\n",
            "Requirement already satisfied: scipy>=1.6.0 in /usr/local/lib/python3.11/dist-packages (from scikit-learn>=0.21.3->seqeval) (1.15.3)\n",
            "Requirement already satisfied: joblib>=1.2.0 in /usr/local/lib/python3.11/dist-packages (from scikit-learn>=0.21.3->seqeval) (1.5.1)\n",
            "Requirement already satisfied: threadpoolctl>=3.1.0 in /usr/local/lib/python3.11/dist-packages (from scikit-learn>=0.21.3->seqeval) (3.6.0)\n",
            "Building wheels for collected packages: seqeval\n",
            "  Building wheel for seqeval (setup.py) ... \u001b[?25l\u001b[?25hdone\n",
            "  Created wheel for seqeval: filename=seqeval-1.2.2-py3-none-any.whl size=16250 sha256=034e3bc5974c41d5444d6057e29ba46903b5313155c9ea4f0d390384d37cbd33\n",
            "  Stored in directory: /root/.cache/pip/wheels/bc/92/f0/243288f899c2eacdfa8c5f9aede4c71a9bad0ee26a01dc5ead\n",
            "Successfully built seqeval\n",
            "Installing collected packages: seqeval\n",
            "Successfully installed seqeval-1.2.2\n"
          ]
        }
      ]
    },
    {
      "cell_type": "code",
      "source": [
        "print(\"Classification report:\\n\", classification_report(true_labels, pred_labels))\n",
        "\n",
        "print(\"F1-score: {:.2f}\".format(f1_score(true_labels, pred_labels)))\n",
        "print(\"Precision: {:.2f}\".format(precision_score(true_labels, pred_labels)))\n",
        "print(\"Recall: {:.2f}\".format(recall_score(true_labels, pred_labels)))"
      ],
      "metadata": {
        "colab": {
          "base_uri": "https://localhost:8080/"
        },
        "id": "13HD8yNzo5ml",
        "outputId": "3c4a01a1-a9cc-45dd-b354-b019a87497d2"
      },
      "execution_count": 53,
      "outputs": [
        {
          "output_type": "stream",
          "name": "stdout",
          "text": [
            "Classification report:\n",
            "               precision    recall  f1-score   support\n",
            "\n",
            " B-DIAGNOSIS       0.50      0.40      0.44         5\n",
            "   B-SYMPTOM       0.75      0.50      0.60         6\n",
            "\n",
            "   micro avg       0.62      0.45      0.53        11\n",
            "   macro avg       0.62      0.45      0.52        11\n",
            "weighted avg       0.64      0.45      0.53        11\n",
            "\n",
            "F1-score: 0.53\n",
            "Precision: 0.62\n",
            "Recall: 0.45\n"
          ]
        }
      ]
    },
    {
      "cell_type": "markdown",
      "source": [
        "Результаты оценки показывают, что модель достигает в целом умеренного уровня качества:\n",
        "\n",
        "F1-score 0.53 — сбалансированная мера, учитывающая точность и полноту, указывает на средний уровень точности распознавания.\n",
        "\n",
        "Precision 0.62 — модель достаточно аккуратно предсказывает сущности, но есть случаи ложных срабатываний.\n",
        "\n",
        "Recall 0.45 — модель пропускает часть сущностей, что говорит о необходимости улучшения чувствительности.\n",
        "\n",
        "Конкретно по классам:\n",
        "\n",
        "Для B-DIAGNOSIS точность и полнота ниже, что свидетельствует о трудностях в распознавании диагнозов.\n",
        "\n",
        "Для B-SYMPTOM показатели чуть лучше, модель лучше выявляет симптомы.\n",
        "\n",
        "Что можно улучшить?\n",
        "\n",
        "Увеличить объем обучающей выборки.\n",
        "\n",
        "Провести тонкую настройку гиперпараметров.\n",
        "\n",
        "Использовать балансировку данных или дополнительные признаки.\n",
        "\n",
        "Обратить внимание на качество аннотаций, чтобы исключить ошибки в разметке."
      ],
      "metadata": {
        "id": "yvg_gFYTx0mH"
      }
    }
  ]
}